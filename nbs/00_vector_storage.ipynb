{
 "cells": [
  {
   "cell_type": "markdown",
   "metadata": {},
   "source": [
    "# Vector Storage\n",
    "\n",
    "> This notebook explores the VectorStorage class, which is the foundation of our MiniVecDB project. The VectorStorage class provides a simple yet effective way to store, retrieve, and manage vector embeddings along with their associated metadata"
   ]
  },
  {
   "cell_type": "markdown",
   "metadata": {},
   "source": [
    "## What is a vector database?"
   ]
  },
  {
   "cell_type": "markdown",
   "metadata": {},
   "source": [
    "Think of a vector database as a smart filing cabinet that can find similar items. \n",
    "Each \"document\" (like text, images, or audio) gets converted into a long list of numbers (a vector).\n",
    "\n",
    "Similar documents have similar vectors, so we can find related content by looking for vectors \n",
    "that are close to each other in this mathematical space.\n",
    "\n",
    "Our VectorStorage class is the simplest form of this - it stores vectors and lets us:\n",
    "- Add new vectors with metadata (information about what the vector represents)\n",
    "- Get vectors by their ID\n",
    "- Delete vectors we don't need anymore\n",
    "- Save and load our database"
   ]
  },
  {
   "cell_type": "code",
   "execution_count": 1,
   "metadata": {},
   "outputs": [],
   "source": [
    "#| default_exp vector_storage"
   ]
  },
  {
   "cell_type": "code",
   "execution_count": 2,
   "metadata": {},
   "outputs": [],
   "source": [
    "#| hide\n",
    "from nbdev.showdoc import *"
   ]
  },
  {
   "cell_type": "code",
   "execution_count": 3,
   "metadata": {},
   "outputs": [],
   "source": [
    "#| export\n",
    "import numpy as np\n",
    "import json\n",
    "from typing import Dict, List, Any, Tuple, Union\n",
    "import fastcore.all as fc"
   ]
  },
  {
   "cell_type": "markdown",
   "metadata": {},
   "source": [
    "## The VectorStorage Class\n",
    "\n",
    "The `VectorStorage` class is the foundation of MiniVecDB. It's designed to be simple yet effective.\n",
    "\n",
    "Each vector is stored with:\n",
    "- A unique numeric ID\n",
    "- The vector itself (a numpy array)\n",
    "- Metadata (any JSON-serializable information about what the vector represents)\n",
    "\n",
    "Think of it as a simple dictionary where the keys are IDs and the values are (vector, metadata) pairs.\n",
    "\n",
    "Below is our complete VectorStorage class. I'll explain each method after the code:\n",
    "\n",
    "- **__init__**: Sets up storage for vectors and metadata\n",
    "- **add**: Adds a new vector with metadata and returns its ID\n",
    "- **get**: Retrieves a vector and its metadata by ID\n",
    "- **delete**: Removes a vector and its metadata\n",
    "- **get_all**: Returns all vectors and metadata\n",
    "- **save**: Saves the database to a file\n",
    "- **load**: Loads a database from a file"
   ]
  },
  {
   "cell_type": "code",
   "execution_count": 4,
   "metadata": {},
   "outputs": [],
   "source": [
    "#| export\n",
    "class VectorStorage:\n",
    "    def __init__(self, dimension):\n",
    "        fc.store_attr()\n",
    "        self.vectors = {}  # id -> vector\n",
    "        self.metadatas = {}  # id -> metadata\n",
    "        self.next_id = 0\n",
    "    \n",
    "    def add(self, vector, metadata):\n",
    "        fc.test_eq(self.dimension, len(vector))\n",
    "        current_id = self.next_id\n",
    "        self.vectors[current_id] = vector\n",
    "        self.metadatas[current_id] = metadata\n",
    "        self.next_id += 1\n",
    "        return current_id\n",
    "    \n",
    "    def get(self, id): return (self.vectors[id], self.metadatas[id])\n",
    "    \n",
    "    def delete(self, id):\n",
    "        if id not in self.vectors: return False\n",
    "        self.vectors.pop(id)\n",
    "        self.metadatas.pop(id)\n",
    "        return True\n",
    "    \n",
    "    def get_all(self): return fc.L((key, self.vectors[key], self.metadatas[key]) for key in self.vectors)\n",
    "        \n",
    "    \n",
    "    def save(self, filepath):\n",
    "        data = {\n",
    "            'dimension': self.dimension,\n",
    "            'next_id': self.next_id,\n",
    "            'vectors': {str(k): v.tolist() for k, v in self.vectors.items()},\n",
    "            'metadatas': self.metadatas  # This should already be serializable\n",
    "        }\n",
    "        fc.Path(filepath).write_text(fc.dumps(data))\n",
    "    \n",
    "    @classmethod\n",
    "    def load(cls, filepath):\n",
    "        data = fc.Path(filepath).read_json()\n",
    "        \n",
    "        storage = cls(data['dimension'])\n",
    "        storage.next_id = data['next_id']\n",
    "        \n",
    "        storage.vectors = {int(k): np.array(v) for k, v in data['vectors'].items()}\n",
    "        storage.metadatas = {int(k): v for k, v in data['metadatas'].items()}\n",
    "        \n",
    "        return storage"
   ]
  },
  {
   "cell_type": "markdown",
   "metadata": {},
   "source": [
    "## Detailed Method Explanations\n",
    "\n",
    "### The add Method\n",
    "\n",
    "The `add` method stores a new vector and its metadata. It:\n",
    "1. Checks that the vector has the correct dimension\n",
    "2. Assigns a unique ID\n",
    "3. Stores the vector and metadata\n",
    "4. Returns the ID so you can reference this vector later\n",
    "\n",
    "### The get and delete Methods\n",
    "\n",
    "The `get` method retrieves a vector and its metadata using the ID.\n",
    "\n",
    "The `delete` method removes a vector and its metadata from storage.\n",
    "\n",
    "Both methods are straightforward but essential for managing your vector database.\n",
    "\n",
    "### Saving and Loading Storage\n",
    "\n",
    "One key feature of `VectorStorage` is persistence - the ability to save your database to disk and load it back later.\n",
    "\n",
    "The `save` method converts all vectors and metadata to a JSON-serializable format and writes to a file.\n",
    "\n",
    "The `load` method recreates a `VectorStorage` object from a saved file, converting the loaded data back into the right formats (like numpy arrays).\n",
    "\n",
    "This means you can build your vector database once and reuse it across multiple sessions or applications."
   ]
  },
  {
   "cell_type": "code",
   "execution_count": 5,
   "metadata": {},
   "outputs": [
    {
     "data": {
      "text/plain": [
       "1"
      ]
     },
     "execution_count": 5,
     "metadata": {},
     "output_type": "execute_result"
    }
   ],
   "source": [
    "storage = VectorStorage(dimension=768)\n",
    "\n",
    "vector1 = np.random.randn(768)\n",
    "vector2 = np.random.randn(768)\n",
    "id1 = storage.add(vector1, {\"title\": \"Item 1\"})\n",
    "id2 = storage.add(vector2, {\"title\": \"Item 2\"})\n",
    "\n",
    "vector, metadata = storage.get(id1)\n",
    "\n",
    "storage.delete(id2)\n",
    "\n",
    "storage.save(\"data/my_vectors.json\")\n",
    "\n",
    "loaded_storage = VectorStorage.load(\"data/my_vectors.json\")\n",
    "len(loaded_storage.get_all())"
   ]
  },
  {
   "cell_type": "markdown",
   "metadata": {},
   "source": [
    "This example shows a complete workflow:\n",
    "1. Create a new storage for 768-dimensional vectors\n",
    "2. Add two vectors with simple metadata\n",
    "3. Retrieve a vector and its metadata\n",
    "4. Delete a vector\n",
    "5. Save the storage to disk\n",
    "6. Load the storage from disk\n",
    "\n",
    "This is a very simple demonstration. In a real application, you might store thousands or millions of vectors representing documents, images, or other data.\n",
    "\n",
    "Next Steps:\n",
    "- Look at 01_ivf_index.ipynb to learn how to make searching more efficient\n",
    "- Look at 02_gen_embeddings.ipynb to see how to create vectors from text using Gemini\n",
    "- Look at 03_headline_embeddings.ipynb for a complete example application"
   ]
  },
  {
   "cell_type": "code",
   "execution_count": 6,
   "metadata": {},
   "outputs": [],
   "source": [
    "#| hide\n",
    "import nbdev; nbdev.nbdev_export()"
   ]
  },
  {
   "cell_type": "code",
   "execution_count": null,
   "metadata": {},
   "outputs": [],
   "source": []
  }
 ],
 "metadata": {
  "kernelspec": {
   "display_name": "Python 3 (ipykernel)",
   "language": "python",
   "name": "python3"
  },
  "language_info": {
   "codemirror_mode": {
    "name": "ipython",
    "version": 3
   },
   "file_extension": ".py",
   "mimetype": "text/x-python",
   "name": "python",
   "nbconvert_exporter": "python",
   "pygments_lexer": "ipython3",
   "version": "3.12.9"
  }
 },
 "nbformat": 4,
 "nbformat_minor": 4
}
