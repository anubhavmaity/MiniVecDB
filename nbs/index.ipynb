{
 "cells": [
  {
   "cell_type": "markdown",
   "metadata": {},
   "source": [
    "# MiniVecDB: A Simple Vector Database in Python\n",
    "\n",
    "MiniVecDB is a lightweight vector database implementation that demonstrates the fundamentals of vector search. It's built for educational purposes to help understand how vector databases work under the hood."
   ]
  },
  {
   "cell_type": "markdown",
   "metadata": {},
   "source": [
    "This file will become your README and also the index of your documentation."
   ]
  },
  {
   "cell_type": "markdown",
   "metadata": {},
   "source": [
    "## What's a Vector Database?\n",
    "\n",
    "Vector databases store and search embeddings - numerical representations of content that capture meaning and relationships. They enable:\n",
    "\n",
    "- **Semantic search**: Find content based on meaning, not just keywords\n",
    "- **Recommendations**: Suggest similar items\n",
    "- **Classification**: Group related items together"
   ]
  },
  {
   "cell_type": "markdown",
   "metadata": {},
   "source": [
    "## Visual Guide to Vector Search"
   ]
  },
  {
   "cell_type": "markdown",
   "metadata": {},
   "source": [
    "```\n",
    "┌───────────────────────────────────────────────────────────────┐\n",
    "│                                                               │\n",
    "│  Text to Vector Embedding                                     │\n",
    "│                                                               │\n",
    "│  \"I love dogs\"  ──────┐                                       │\n",
    "│                       │                                       │\n",
    "│                       ▼                                       │\n",
    "│  ┌─────────────────────────────────────┐                      │\n",
    "│  │      Gemini Embedding Model         │                      │\n",
    "│  └─────────────────────────────────────┘                      │\n",
    "│                       │                                       │\n",
    "│                       ▼                                       │\n",
    "│  [0.021, -0.108, 0.324, ..., -0.021]  ◄── 768-dimensional     │\n",
    "│                                            vector             │\n",
    "│                                                               │\n",
    "└───────────────────────────────────────────────────────────────┘\n",
    "```\n",
    "\n",
    "```\n",
    "┌─────────────────────────────────────────────────────────────────┐\n",
    "│                                                                 │\n",
    "│  VectorStorage                                                  │\n",
    "│                                                                 │\n",
    "│  ┌─────────────┐     ┌────────────────────────────────────────┐ │\n",
    "│  │   Index     │     │            Vectors                     │ │\n",
    "│  ├─────────────┤     ├────────────────────────────────────────┤ │\n",
    "│  │      0      │ ──► │ [0.21, -0.11, 0.54, ..., 0.76]         │ │\n",
    "│  │      1      │ ──► │ [0.11, 0.36, -0.42, ..., -0.21]        │ │\n",
    "│  │      2      │ ──► │ [-0.33, 0.12, 0.91, ..., 0.05]         │ │\n",
    "│  └─────────────┘     └────────────────────────────────────────┘ │\n",
    "│                                                                 │\n",
    "│  ┌─────────────┐     ┌────────────────────────────────────────┐ │\n",
    "│  │   Index     │     │            Metadata                    │ │\n",
    "│  ├─────────────┤     ├────────────────────────────────────────┤ │\n",
    "│  │      0      │ ──► │ {\"headline\": \"Scientists Discover...\", │ │\n",
    "│  │             │     │  \"genre\": \"Science\"}                   │ │\n",
    "│  │      1      │ ──► │ {\"headline\": \"Tech Company Launches..\",│ │\n",
    "│  │             │     │  \"genre\": \"Technology\"}                │ │\n",
    "│  │      2      │ ──► │ {\"headline\": \"Stock Market Hits...\",   │ │\n",
    "│  │             │     │  \"genre\": \"Finance\"}                   │ │\n",
    "│  └─────────────┘     └────────────────────────────────────────┘ │\n",
    "│                                                                 │\n",
    "└─────────────────────────────────────────────────────────────────┘\n",
    "```\n",
    "\n",
    "```\n",
    "┌────────────────────────────────────────────────────────────────┐\n",
    "│                                                                │\n",
    "│  IVF Index - Inverted File Structure                           │\n",
    "│                                                                │\n",
    "│  Step 1: Cluster vectors using K-means                         │\n",
    "│                                                                │\n",
    "│    ●       ○                                                   │\n",
    "│     ●   ○    ○                    ● Cluster 0                  │\n",
    "│      ● ○                          ○ Cluster 1                  │\n",
    "│     ●   ○                         ◆ Cluster 2                  │\n",
    "│    ●       ○                                                   │\n",
    "│        ◆ ◆ ◆                                                   │\n",
    "│         ◆ ◆                                                    │\n",
    "│                                                                │\n",
    "│  Step 2: Create inverted lists                                 │\n",
    "│                                                                │\n",
    "│  ┌────────────┐    ┌───────────────────────────────────┐       │\n",
    "│  │  Cluster   │    │  Vector IDs in cluster            │       │\n",
    "│  ├────────────┤    ├───────────────────────────────────┤       │\n",
    "│  │     0      │ ─► │  24, 42, 57, 123, 189             │       │\n",
    "│  │     1      │ ─► │  7, 19, 76, 88, 152, 167          │       │\n",
    "│  │     2      │ ─► │  31, 45, 103, 127                 │       │\n",
    "│  └────────────┘    └───────────────────────────────────┘       │\n",
    "│                                                                │\n",
    "│  Step 3: During search, only examine vectors in closest        │\n",
    "│          clusters (nprobe=2)                                   │\n",
    "│                                                                │\n",
    "└────────────────────────────────────────────────────────────────┘\n",
    "```\n",
    "\n",
    "\n",
    "```\n",
    "┌────────────────────────────────────────────────────────────────┐\n",
    "│                                                                │\n",
    "│  Semantic Search Workflow                                      │\n",
    "│                                                                │\n",
    "│  1. Convert query to embedding                                 │\n",
    "│                                                                │\n",
    "│  \"Latest sports results\"  ────► [0.12, -0.43, ..., 0.21]       │\n",
    "│                                                                │\n",
    "│  2. Find nearest clusters (nprobe=2)                           │\n",
    "│                                                                │\n",
    "│       ●                                                        │\n",
    "│     ●   ●                                                      │\n",
    "│      ●X●           ◆ ◆       X = Query Vector                  │\n",
    "│     ●   ●           ◆ ◆      ● = Closest Cluster               │\n",
    "│       ●              ◆       ○ = Other Cluster                 │\n",
    "│                      ○ ○     ◆ = Other Cluster                 │\n",
    "│                     ○   ○                                      │\n",
    "│                      ○ ○                                       │\n",
    "│                                                                │\n",
    "│  3. Compare only with vectors in those clusters                │\n",
    "│                                                                │\n",
    "│  4. Return most similar results:                               │\n",
    "│     - \"Local Football Team Wins Championship\"                  │\n",
    "│     - \"Marathon Runner Breaks World Record\"                    │\n",
    "│                                                                │\n",
    "└────────────────────────────────────────────────────────────────┘\n",
    "```\n",
    "\n",
    "```\n",
    "┌────────────────────────────────────────────────────────────────┐\n",
    "│                                                                │\n",
    "│  MiniVecDB Project Flow                                        │\n",
    "│                                                                │\n",
    "│  ┌───────────────┐     ┌───────────────┐    ┌───────────────┐  │\n",
    "│  │   Text Data   │ ──► │   Embeddings  │ ─► │VectorStorage  │  │\n",
    "│  └───────────────┘     └───────────────┘    └───────────────┘  │\n",
    "│         │                      ▲                    │          │\n",
    "│         │                      │                    ▼          │\n",
    "│         │                      │              ┌───────────────┐│\n",
    "│         │                      │              │  IVF Index    ││\n",
    "│         ▼                      │              └───────────────┘│\n",
    "│  ┌───────────────┐             │                    │          │\n",
    "│  │ Search Query  │─────────────┘                    │          │\n",
    "│  └───────────────┘                                  │          │\n",
    "│         │                                           │          │\n",
    "│         │                                           ▼          │\n",
    "│         │                                    ┌───────────────┐ │\n",
    "│         └───────────────────────────────────►│   Results     │ │\n",
    "│                                              └───────────────┘ │\n",
    "│                                                                │\n",
    "└────────────────────────────────────────────────────────────────┘\n",
    "```"
   ]
  },
  {
   "cell_type": "markdown",
   "metadata": {},
   "source": [
    "## Features\n",
    "\n",
    "- **Simple storage layer**: Store, retrieve, and manage vector embeddings with metadata\n",
    "- **Fast search with IVF**: Efficient approximate nearest neighbor search\n",
    "- **Gemini API integration**: Generate high-quality embeddings from text\n",
    "- **Flexible distance metrics**: Choose between cosine, Euclidean, and dot product similarity"
   ]
  },
  {
   "cell_type": "markdown",
   "metadata": {},
   "source": [
    "## Project Structure\n",
    "\n",
    "The project is organized into four main components:\n",
    "\n",
    "1. **VectorStorage**: The foundation for storing and managing vectors and metadata\n",
    "2. **IVF Index**: An efficient search index using clustering to accelerate queries\n",
    "3. **Embedding Generation**: Utilities to create vector embeddings from text using Gemini\n",
    "4. **Sample Application**: A news headline search demo"
   ]
  },
  {
   "cell_type": "markdown",
   "metadata": {},
   "source": [
    "## Understanding the Notebooks\n",
    "Each notebook in this project explores a different aspect of vector databases:\n",
    "\n",
    "\n",
    "`00_vector_storage.ipynb`\n",
    "This notebook implements the core storage system for our MiniVecDB project. It introduces the concept of vector databases and demonstrates how to store, retrieve, and manage vector embeddings with metadata. The VectorStorage class handles basic operations like adding vectors, getting them by ID, deletion, and saving/loading the database to disk.\n",
    "\n",
    "\n",
    "`01_ivf_index.ipynb`\n",
    "This notebook builds on the storage layer to implement efficient search using the Inverted File (IVF) Index algorithm. It explains the challenge of searching through large vector collections and demonstrates how clustering vectors can dramatically improve search speed. The notebook covers different distance functions, K-means clustering, and searching with different parameters.\n",
    "\n",
    "\n",
    "`02_gen_embeddings.ipynb`\n",
    "This notebook sets up our connection to Google's Gemini API for creating text embeddings. It explains what embeddings are, how they capture semantic meaning, and why they're powerful for finding related content. The get_embedding function implemented here converts text to 768-dimensional vectors optimized for semantic similarity.\n",
    "\n",
    "\n",
    "`03_headline_embeddings.ipynb`\n",
    "This notebook applies everything from the previous notebooks to build a complete workflow. It processes a dataset of news headlines, converts them to embeddings using Gemini (with rate limiting considerations), and stores them for use with our IVF index. This preprocessing step creates the vector database that powers semantic search demonstrations."
   ]
  },
  {
   "cell_type": "markdown",
   "metadata": {},
   "source": [
    "## Getting Started\n",
    "\n",
    "### Prerequisites\n",
    "\n",
    "- Python 3.9+\n",
    "- NumPy\n",
    "- FastCore\n",
    "- Google Gemini API access\n",
    "\n",
    "### Installation\n",
    "\n",
    "```bash\n",
    "git clone https://github.com/yourusername/minivecdb.git\n",
    "cd minivecdb\n",
    "pip install -e .\n",
    "```"
   ]
  },
  {
   "cell_type": "markdown",
   "metadata": {},
   "source": [
    "## Quick Example"
   ]
  },
  {
   "cell_type": "code",
   "execution_count": null,
   "metadata": {},
   "outputs": [
    {
     "name": "stdout",
     "output_type": "stream",
     "text": [
      "Average list size: 1.0, Max: 1\n",
      "Scientists Discover New Species in Amazon\n"
     ]
    }
   ],
   "source": [
    "from minivecdb.vector_storage import VectorStorage\n",
    "from minivecdb.ivf_index import IVFIndex\n",
    "from minivecdb.gen_emb import get_embedding\n",
    "\n",
    "# Create a storage for 768-dimensional vectors\n",
    "storage = VectorStorage(768)\n",
    "\n",
    "# Add some vectors with metadata\n",
    "headline = \"Scientists Discover New Species in Amazon\"\n",
    "vector = get_embedding(headline)\n",
    "storage.add(vector, {\"headline\": headline, \"category\": \"science\"})\n",
    "\n",
    "# Add more vectors...\n",
    "\n",
    "# Create and build an index for faster search\n",
    "index = IVFIndex(storage)\n",
    "index.build()\n",
    "\n",
    "# Search for similar content\n",
    "query = \"New biological discovery in rainforest\"\n",
    "query_vector = get_embedding(query)\n",
    "results = index.search(query_vector, k=5)\n",
    "\n",
    "# Display results\n",
    "for vector, metadata in results:\n",
    "    print(metadata[\"headline\"])"
   ]
  },
  {
   "cell_type": "markdown",
   "metadata": {},
   "source": [
    "## How It Works\n",
    "\n",
    "### Vector Storage\n",
    "\n",
    "The `VectorStorage` class provides the foundational layer:\n",
    "- Stores vectors with unique IDs\n",
    "- Associates metadata with each vector\n",
    "- Persists data to disk using JSON\n",
    "\n",
    "### IVF Indexing\n",
    "\n",
    "The Inverted File (IVF) index accelerates search by:\n",
    "1. Clustering similar vectors using K-means\n",
    "2. Creating \"inverted lists\" mapping clusters to their vectors\n",
    "3. During search, checking only the most promising clusters\n",
    "\n",
    "This approach dramatically reduces the number of comparisons needed for large datasets.\n",
    "\n",
    "### Embedding Generation\n",
    "\n",
    "We use Google's Gemini API to convert text into 768-dimensional vectors that capture semantic meaning. Similar concepts produce similar vectors, enabling semantic search."
   ]
  },
  {
   "cell_type": "markdown",
   "metadata": {},
   "source": [
    "## Limitations\n",
    "\n",
    "This is an educational implementation with some limitations:\n",
    "- Not optimized for very large datasets (millions of vectors)\n",
    "- Basic persistence mechanism using JSON\n",
    "- No automatic index updates (requires full rebuild)\n",
    "- No concurrent access support"
   ]
  },
  {
   "cell_type": "markdown",
   "metadata": {},
   "source": [
    "## License\n",
    "\n",
    "MIT\n",
    "\n",
    "## Acknowledgments\n",
    "\n",
    "- The [FastKMeans](https://github.com/AnswerDotAI/fastkmeans) library for efficient clustering\n",
    "- Google's Gemini API for high-quality embeddings"
   ]
  },
  {
   "cell_type": "code",
   "execution_count": null,
   "metadata": {},
   "outputs": [],
   "source": []
  }
 ],
 "metadata": {
  "kernelspec": {
   "display_name": "Python (minivecdb)",
   "language": "python",
   "name": "minivecdb"
  },
  "language_info": {
   "codemirror_mode": {
    "name": "ipython",
    "version": 3
   },
   "file_extension": ".py",
   "mimetype": "text/x-python",
   "name": "python",
   "nbconvert_exporter": "python",
   "pygments_lexer": "ipython3",
   "version": "3.12.9"
  }
 },
 "nbformat": 4,
 "nbformat_minor": 4
}
