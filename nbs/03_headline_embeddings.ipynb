{
 "cells": [
  {
   "cell_type": "markdown",
   "id": "ee60aead-32d7-4ada-ba37-bada00bb8faf",
   "metadata": {},
   "source": [
    "# Preparing Headline Data\n",
    "This notebook processes a dataset of news headlines, converting them into vector embeddings and storing them for later use with our IVF index. We load headlines from a CSV file, generate embeddings for each using Gemini's API (with a 10-second delay between calls to respect rate limits), then save everything to a VectorStorage file. This preprocessing step creates the vector database that powers our semantic search demonstrations in the IVF index notebook."
   ]
  },
  {
   "cell_type": "code",
   "execution_count": 18,
   "id": "b5663b60-0d3b-4a90-8e55-e97127f96c5a",
   "metadata": {},
   "outputs": [],
   "source": [
    "import pandas as pd\n",
    "from minivecdb.vector_storage import VectorStorage\n",
    "from minivecdb import gen_emb\n",
    "from types import SimpleNamespace\n",
    "import time\n",
    "import fastcore.all as fc"
   ]
  },
  {
   "cell_type": "code",
   "execution_count": 23,
   "id": "0a28c8f0-279c-4cef-8b9f-fe96b7402a04",
   "metadata": {},
   "outputs": [
    {
     "data": {
      "text/plain": [
       "(                                            Headline          Genre\n",
       " 0  Scientists Discover New Species of Fish in Pac...        Science\n",
       " 1  Local Bakery Wins National Award for Best Croi...           Food\n",
       " 2         New Action Movie Breaks Box Office Records  Entertainment\n",
       " 3     City Council Approves New Park Renovation Plan     Local News\n",
       " 4               Tech Startup Secures $10M in Funding     Technology,\n",
       " (383, 2))"
      ]
     },
     "execution_count": 23,
     "metadata": {},
     "output_type": "execute_result"
    }
   ],
   "source": [
    "df = pd.read_csv(\"data/random_headlines.csv\") # Data generated from Grok\n",
    "df.head(), df.shape"
   ]
  },
  {
   "cell_type": "markdown",
   "id": "b232e62e-8895-4430-8c9d-34da77e60018",
   "metadata": {
    "jp-MarkdownHeadingCollapsed": true
   },
   "source": [
    "## Our Dataset\n",
    "\n",
    "We're working with a dataset of random news headlines across different genres. Each headline has:\n",
    "- The headline text\n",
    "- A genre label (like Science, Technology, Sports)\n",
    "\n",
    "This will let us build a semantic search engine that understands the meaning of headlines."
   ]
  },
  {
   "cell_type": "code",
   "execution_count": 7,
   "id": "50b99244-bfd2-40e5-914e-ab7bb6b1362d",
   "metadata": {},
   "outputs": [],
   "source": [
    "def compute_emb(x):\n",
    "    headline, genre = x['Headline'], x['Genre']\n",
    "    vector = gen_emb.get_embedding(headline)\n",
    "    time.sleep(10)\n",
    "    return SimpleNamespace(vector=vector, metadata={'headline': headline, 'genre': genre})"
   ]
  },
  {
   "cell_type": "markdown",
   "id": "51ab95bb-b6b4-4d89-a988-91616e8df507",
   "metadata": {
    "jp-MarkdownHeadingCollapsed": true
   },
   "source": [
    "## Creating Embeddings\n",
    "\n",
    "The `compute_emb` function:\n",
    "1. Takes a headline and its genre\n",
    "2. Creates an embedding using our Gemini function\n",
    "3. Adds a 10-second delay to respect API rate limits\n",
    "4. Returns a SimpleNamespace object with the vector and metadata\n",
    "\n",
    "Note that the delay is important when working with external APIs - they often have limits on how quickly you can send requests."
   ]
  },
  {
   "cell_type": "code",
   "execution_count": 8,
   "id": "480d9f76-2000-4512-8448-fed8f4e10ae6",
   "metadata": {},
   "outputs": [],
   "source": [
    "emb_obj = df.apply(compute_emb, axis=1)"
   ]
  },
  {
   "cell_type": "markdown",
   "id": "f9d29d1c-017a-458f-90e2-a1fc7ec778cf",
   "metadata": {
    "jp-MarkdownHeadingCollapsed": true
   },
   "source": [
    "## Processing All Headlines\n",
    "\n",
    "We apply our function to each headline in the dataset. This creates embeddings for all 383 headlines.\n",
    "\n",
    "This is the most time-consuming part of the process (about an hour for this dataset) because:\n",
    "1. Creating each embedding requires an API call\n",
    "2. We add a 10-second delay between calls\n",
    "3. We're processing hundreds of headlines"
   ]
  },
  {
   "cell_type": "code",
   "execution_count": 12,
   "id": "4a4ec37c-7ace-4224-b4ae-4083e3c3aa0d",
   "metadata": {},
   "outputs": [
    {
     "data": {
      "text/plain": [
       "383"
      ]
     },
     "execution_count": 12,
     "metadata": {},
     "output_type": "execute_result"
    }
   ],
   "source": [
    "len(emb_obj)"
   ]
  },
  {
   "cell_type": "code",
   "execution_count": 21,
   "id": "320d120d-5a0b-4256-aa6b-554b3b10aa5d",
   "metadata": {},
   "outputs": [
    {
     "data": {
      "text/plain": [
       "383"
      ]
     },
     "execution_count": 21,
     "metadata": {},
     "output_type": "execute_result"
    }
   ],
   "source": [
    "vs = VectorStorage(768)\n",
    "res = emb_obj.map(lambda o: vs.add(o.vector, o.metadata))\n",
    "len(res)"
   ]
  },
  {
   "cell_type": "markdown",
   "id": "88c6fc27-8690-4ddd-993c-66e43a837983",
   "metadata": {
    "jp-MarkdownHeadingCollapsed": true
   },
   "source": [
    "## Storing Our Embeddings\n",
    "\n",
    "Now we:\n",
    "1. Create a VectorStorage for our 768-dimensional vectors\n",
    "2. Add each embedding with its metadata (headline text and genre)\n",
    "3. Save the complete storage to disk as a JSON file\n",
    "\n",
    "This creates a searchable database of headline embeddings that we can load and use anytime without redoing the API calls."
   ]
  },
  {
   "cell_type": "code",
   "execution_count": 22,
   "id": "8a499112-5231-46a2-a4b2-1c46fa641b89",
   "metadata": {},
   "outputs": [],
   "source": [
    "vs.save(\"data/headline_embeddings.json\")"
   ]
  },
  {
   "cell_type": "code",
   "execution_count": null,
   "id": "cfd2bc96-57b9-4639-8188-fe261f5e9884",
   "metadata": {},
   "outputs": [],
   "source": []
  }
 ],
 "metadata": {
  "kernelspec": {
   "display_name": "Python (minivecdb)",
   "language": "python",
   "name": "minivecdb"
  },
  "language_info": {
   "codemirror_mode": {
    "name": "ipython",
    "version": 3
   },
   "file_extension": ".py",
   "mimetype": "text/x-python",
   "name": "python",
   "nbconvert_exporter": "python",
   "pygments_lexer": "ipython3",
   "version": "3.12.9"
  }
 },
 "nbformat": 4,
 "nbformat_minor": 5
}
